{
 "cells": [
  {
   "cell_type": "code",
   "execution_count": 2,
   "metadata": {},
   "outputs": [],
   "source": [
    "import re\n",
    "import numpy as np\n",
    "import pandas as pd"
   ]
  },
  {
   "cell_type": "code",
   "execution_count": 4,
   "metadata": {},
   "outputs": [
    {
     "name": "stdout",
     "output_type": "stream",
     "text": [
      "Dave Martin\n",
      "615-555-7164\n",
      "173 Main St., Springfield RI 55924\n",
      "davemartin@bogusemail.com\n",
      "\n",
      "Charles Harris\n",
      "800-555-5669\n",
      "969 High St., Atlantis VA 34075\n",
      "charlesharris@bogusemail.com\n",
      "\n",
      "Eric Williams\n",
      "560-555-5153\n",
      "806 1st St., Faketown AK 86847\n",
      "laurawilliams@bogusemail.com\n",
      "\n",
      "Corey Jefferson\n",
      "900-555-9340\n",
      "826 Elm St., Epicburg NE 10671\n",
      "coreyjefferson@bogusemail.com\n",
      "\n",
      "Jennifer Martin-White\n",
      "714-555-7405\n",
      "212 Cedar St., Sunnydale CT 74983\n",
      "jenniferwhite@bogusemail.com\n",
      "\n",
      "Erick Davis\n",
      "800-555-6771\n",
      "519 Washington St., Olympus TN 32425\n",
      "tomdavis@bogusemail.com\n",
      "\n",
      "Neil Patterson\n",
      "783-555-4799\n",
      "625 Oak St., Dawnstar IL 61914\n",
      "neilpatterson@bogusemail.com\n",
      "\n",
      "Laura Jefferson\n",
      "516-555-4615\n",
      "890 Main St., Pythonville LA 29947\n",
      "laurajefferson@bogusemail.com\n",
      "\n",
      "Maria Johnson\n",
      "127-555-1867\n",
      "884 High St., Braavosâ€Ž ME 43597\n",
      "mariajohnson@bogusemail.com\n",
      "\n",
      "Michael Arnold\n",
      "608-555-4938\n",
      "249 Elm St., Quahog OR 90938\n",
      "michaelarnold@bogusemail.com\n",
      "\n",
      "Michael Smith\n",
      "568-555-6051\n",
      "619 Park St., Winterfell VA 99000\n",
      "michaelsmith@bogusemail.com\n",
      "\n",
      "Erik Stuart\n",
      "292-555-1875\n",
      "220 Cedar St., Lakeview NY 87282\n",
      "robertstuart@bogusemail.com\n",
      "\n",
      "Laura Martin\n",
      "900-555-3205\n",
      "391 High St., Smalltown WY 28362\n",
      "lauramartin@bogusemail.com\n",
      "\n",
      "Barbara Martin\n",
      "614-555-1166\n",
      "121 Hill St., Braavosâ€Ž UT 92474\n",
      "barbaramartin@bogusemail.com\n",
      "\n",
      "Linda Jackson\n",
      "530-555-2676\n",
      "433 Elm St., Westworld TX 61967\n",
      "lindajackson@bogusemail.com\n",
      "\n",
      "Eric Miller\n",
      "470-555-2750\n",
      "838 Main St., Balmora MT 56526\n",
      "stevemiller@bogusemail.com\n",
      "\n",
      "Dave Arnold\n",
      "800-555-6089\n",
      "732 High St., Valyria KY 97152\n",
      "davearnold@bogusemail.com\n",
      "\n",
      "Jennifer Jacobs\n",
      "880-555-8319\n",
      "217 High St., Old-town IA 82767\n",
      "jenniferjacobs@bogusemail.com\n",
      "\n",
      "Neil Wilson\n",
      "777-555-8378\n",
      "191 Main St., Mordor IL 72160\n",
      "neilwilson@bogusemail.com\n",
      "\n",
      "Kurt Jackson\n",
      "998-555-7385\n",
      "607 Washington St., Blackwater NH 97183\n",
      "kurtjackson@bogusemail.com\n",
      "\n",
      "Mary Jacobs\n",
      "800-555-7100\n",
      "478 Oak St., Bedrock IA 58176\n",
      "maryjacobs@bogusemail.com\n",
      "\n",
      "Michael White\n",
      "903-555-8277\n",
      "906 Elm St., Mordor TX 89212\n",
      "michaelwhite@bogusemail.com\n",
      "\n",
      "Jennifer Jenkins\n",
      "196-555-5674\n",
      "949 Main St., Smalltown SC 96962\n",
      "jenniferjenkins@bogusemail.com\n",
      "\n",
      "Sam Wright\n",
      "900-555-5118\n",
      "835 Pearl St., Smalltown ND 77737\n",
      "samwright@bogusemail.com\n",
      "\n",
      "John Davis\n",
      "905-555-1630\n",
      "451 Lake St., Bedrock GA 34615\n",
      "johndavis@bogusemail.com\n",
      "\n",
      "Eric Davis\n",
      "203-555-3475\n",
      "419 Lake St., Balmora OR 30826\n",
      "neildavis@bogusemail.com\n",
      "\n",
      "Laura Jackson\n",
      "884-555-8444\n",
      "443 Maple St., Quahog MS 29348\n",
      "laurajackson@bogusemail.com\n",
      "\n",
      "John Williams\n",
      "904-555-8559\n",
      "756 Hill St., Valyria KY 94854\n",
      "johnwilliams@bogusemail.com\n",
      "\n",
      "Michael Martin\n",
      "889-555-7393\n",
      "216 High St., Olympus NV 21888\n",
      "michaelmartin@bogusemail.com\n",
      "\n",
      "Maggie Brown\n",
      "195-555-2405\n",
      "806 Lake St., Lakeview MD 59348\n",
      "maggiebrown@bogusemail.com\n",
      "\n",
      "Erik Wilson\n",
      "321-555-9053\n",
      "354 Hill St., Mordor FL 74122\n",
      "kurtwilson@bogusemail.com\n",
      "\n",
      "Elizabeth Arnold\n",
      "133-555-1711\n",
      "805 Maple St., Winterfell NV 99431\n",
      "elizabetharnold@bogusemail.com\n",
      "\n",
      "Jane Martin\n",
      "900-555-5428\n",
      "418 Park St., Metropolis ID 16576\n",
      "janemartin@bogusemail.com\n",
      "\n",
      "Travis Johnson\n",
      "760-555-7147\n",
      "749 Washington St., Braavosâ€Ž SD 25668\n",
      "travisjohnson@bogusemail.com\n",
      "\n",
      "Laura Jefferson\n",
      "391-555-6621\n",
      "122 High St., Metropolis ME 29540\n",
      "laurajefferson@bogusemail.com\n",
      "\n",
      "Tom Williams\n",
      "932-555-7724\n",
      "610 High St., Old-town FL 60758\n",
      "tomwilliams@bogusemail.com\n",
      "\n",
      "Jennifer Taylor\n",
      "609-555-7908\n",
      "332 Main St., Pythonville OH 78172\n",
      "jennifertaylor@bogusemail.com\n",
      "\n",
      "Erick Wright\n",
      "800-555-8810\n",
      "858 Hill St., Blackwater NC 79714\n",
      "jenniferwright@bogusemail.com\n",
      "\n",
      "Steve Doe\n",
      "149-555-7657\n",
      "441 Elm St., Atlantis MS 87195\n",
      "stevedoe@bogusemail.com\n",
      "\n",
      "Kurt Davis\n",
      "130-555-9709\n",
      "404 Oak St., Atlantis ND 85386\n",
      "kurtdavis@bogusemail.com\n",
      "\n",
      "Corey Harris\n",
      "143-555-9295\n",
      "286 Pearl St., Vice City TX 57112\n",
      "coreyharris@bogusemail.com\n",
      "\n",
      "Nicole Taylor\n",
      "903-555-9878\n",
      "465 Hill St., Old-town LA 64102\n",
      "nicoletaylor@bogusemail.com\n",
      "\n",
      "Elizabeth Davis\n",
      "574-555-3194\n",
      "151 Lake St., Eerie SD 17880\n",
      "elizabethdavis@bogusemail.com\n",
      "\n",
      "Maggie Jenkins\n",
      "496-555-7533\n",
      "504 Lake St., Gotham PA 46692\n",
      "maggiejenkins@bogusemail.com\n",
      "\n",
      "Linda Davis\n",
      "210-555-3757\n",
      "201 Pine St., Vice City AR 78455\n",
      "lindadavis@bogusemail.com\n",
      "\n",
      "Dave Moore\n",
      "900-555-9598\n",
      "251 Pine St., Old-town OK 29087\n",
      "davemoore@bogusemail.com\n",
      "\n",
      "Linda Jenkins\n",
      "866-555-9844\n",
      "117 High St., Bedrock NE 11899\n",
      "lindajenkins@bogusemail.com\n",
      "\n",
      "Eric White\n",
      "669-555-7159\n",
      "650 Oak St., Smalltown TN 43281\n",
      "samwhite@bogusemail.com\n",
      "\n",
      "Laura Robinson\n",
      "152-555-7417\n",
      "377 Pine St., Valyria NC 78036\n",
      "laurarobinson@bogusemail.com\n",
      "\n",
      "Charles Patterson\n",
      "893-555-9832\n",
      "416 Pearl St., Valyria AK 62260\n",
      "charlespatterson@bogusemail.com\n",
      "\n",
      "Joe Jackson\n",
      "217-555-7123\n",
      "683 Cedar St., South Park KS 66724\n",
      "joejackson@bogusemail.com\n",
      "\n",
      "Michael Johnson\n",
      "786-555-6544\n",
      "288 Hill St., Smalltown AZ 18586\n",
      "michaeljohnson@bogusemail.com\n",
      "\n",
      "Corey Miller\n",
      "780-555-2574\n",
      "286 High St., Springfield IA 16272\n",
      "coreymiller@bogusemail.com\n",
      "\n",
      "James Moore\n",
      "926-555-8735\n",
      "278 Main St., Gotham KY 89569\n",
      "jamesmoore@bogusemail.com\n",
      "\n",
      "Jennifer Stuart\n",
      "895-555-3539\n",
      "766 Hill St., King's Landing GA 54999\n",
      "jenniferstuart@bogusemail.com\n",
      "\n",
      "Charles Martin\n",
      "874-555-3949\n",
      "775 High St., Faketown PA 89260\n",
      "charlesmartin@bogusemail.com\n",
      "\n",
      "Eric Wilks\n",
      "800-555-2420\n",
      "885 Main St., Blackwater OH 61275\n",
      "joewilks@bogusemail.com\n",
      "\n",
      "Elizabeth Arnold\n",
      "936-555-6340\n",
      "528 Hill St., Atlantis NH 88289\n",
      "elizabetharnold@bogusemail.com\n",
      "\n",
      "John Miller\n",
      "372-555-9809\n",
      "117 Cedar St., Thundera NM 75205\n",
      "johnmiller@bogusemail.com\n",
      "\n",
      "Corey Jackson\n",
      "890-555-5618\n",
      "115 Oak St., Gotham UT 36433\n",
      "coreyjackson@bogusemail.com\n",
      "\n",
      "Sam Thomas\n",
      "670-555-3005\n",
      "743 Lake St., Springfield MS 25473\n",
      "samthomas@bogusemail.com\n",
      "\n",
      "Patricia Thomas\n",
      "509-555-5997\n",
      "381 Hill St., Blackwater CT 30958\n",
      "patriciathomas@bogusemail.com\n",
      "\n",
      "Jennifer Davis\n",
      "721-555-5632\n",
      "125 Main St., Smalltown MT 62155\n",
      "jenniferdavis@bogusemail.com\n",
      "\n",
      "Patricia Brown\n",
      "900-555-3567\n",
      "292 Hill St., Gotham WV 57680\n",
      "patriciabrown@bogusemail.com\n",
      "\n",
      "Barbara Williams\n",
      "147-555-6830\n",
      "514 Park St., Balmora NV 55462\n",
      "barbarawilliams@bogusemail.com\n",
      "\n",
      "James Taylor\n",
      "582-555-3426\n",
      "776 Hill St., Dawnstar MA 51312\n",
      "jamestaylor@bogusemail.com\n",
      "\n",
      "Eric Harris\n",
      "400-555-1706\n",
      "421 Elm St., Smalltown NV 72025\n",
      "barbaraharris@bogusemail.com\n",
      "\n",
      "Travis Anderson\n",
      "525-555-1793\n",
      "937 Cedar St., Thundera WA 78862\n",
      "travisanderson@bogusemail.com\n",
      "\n",
      "Sam Robinson\n",
      "317-555-6700\n",
      "417 Pine St., Lakeview MD 13147\n",
      "samrobinson@bogusemail.com\n",
      "\n",
      "Steve Robinson\n",
      "974-555-8301\n",
      "478 Park St., Springfield NM 92369\n",
      "steverobinson@bogusemail.com\n",
      "\n",
      "Mary Wilson\n",
      "800-555-3216\n",
      "708 Maple St., Braavosâ€Ž UT 29551\n",
      "marywilson@bogusemail.com\n",
      "\n",
      "Sam Wilson\n",
      "746-555-4094\n",
      "557 Pearl St., Westworld KS 23225\n",
      "samwilson@bogusemail.com\n",
      "\n",
      "Charles Jones\n",
      "922-555-1773\n",
      "855 Hill St., Olympus HI 81427\n",
      "charlesjones@bogusemail.com\n",
      "\n",
      "Laura Brown\n",
      "711-555-4427\n",
      "980 Maple St., Smalltown MO 96421\n",
      "laurabrown@bogusemail.com\n",
      "\n",
      "Tom Harris\n",
      "355-555-1872\n",
      "676 Hill St., Blackwater AR 96698\n",
      "tomharris@bogusemail.com\n",
      "\n",
      "Patricia Taylor\n",
      "852-555-6521\n",
      "588 Pine St., Olympus FL 98412\n",
      "patriciataylor@bogusemail.com\n",
      "\n",
      "Barbara Williams\n",
      "691-555-5773\n",
      "351 Elm St., Sunnydale GA 26245\n",
      "barbarawilliams@bogusemail.com\n",
      "\n",
      "Maggie Johnson\n",
      "332-555-5441\n",
      "948 Cedar St., Quahog DE 56449\n",
      "maggiejohnson@bogusemail.com\n",
      "\n",
      "Kurt Miller\n",
      "900-555-7755\n",
      "381 Hill St., Quahog AL 97503\n",
      "kurtmiller@bogusemail.com\n",
      "\n",
      "Neil Stuart\n",
      "379-555-3685\n",
      "496 Cedar St., Sunnydale RI 49113\n",
      "neilstuart@bogusemail.com\n",
      "\n",
      "Linda Patterson\n",
      "127-555-9682\n",
      "736 Cedar St., Lakeview KY 47472\n",
      "lindapatterson@bogusemail.com\n",
      "\n",
      "Charles Davis\n",
      "789-555-7032\n",
      "678 Lake St., Mordor MN 11845\n",
      "charlesdavis@bogusemail.com\n",
      "\n",
      "Jennifer Jefferson\n",
      "783-555-5135\n",
      "289 Park St., Sunnydale WA 74526\n",
      "jenniferjefferson@bogusemail.com\n",
      "\n",
      "Erick Taylor\n",
      "315-555-6507\n",
      "245 Washington St., Bedrock IL 26941\n",
      "coreytaylor@bogusemail.com\n",
      "\n",
      "Robert Wilks\n",
      "481-555-5835\n",
      "573 Elm St., Sunnydale IL 47182\n",
      "robertwilks@bogusemail.com\n",
      "\n",
      "Travis Jackson\n",
      "365-555-8287\n",
      "851 Lake St., Metropolis PA 22772\n",
      "travisjackson@bogusemail.com\n",
      "\n",
      "Travis Jackson\n",
      "911-555-7535\n",
      "489 Oak St., Atlantis HI 73725\n",
      "travisjackson@bogusemail.com\n",
      "\n",
      "Laura Wilks\n",
      "681-555-2460\n",
      "371 Pearl St., Smalltown SC 47466\n",
      "laurawilks@bogusemail.com\n",
      "\n",
      "Neil Arnold\n",
      "274-555-9800\n",
      "504 Oak St., Faketown PA 73860\n",
      "neilarnold@bogusemail.com\n",
      "\n",
      "Linda Johnson\n",
      "800-555-1372\n",
      "667 High St., Balmora IN 82473\n",
      "lindajohnson@bogusemail.com\n",
      "\n",
      "Jennifer Wilson\n",
      "300-555-7821\n",
      "266 Pine St., Westworld DC 58720\n",
      "jenniferwilson@bogusemail.com\n",
      "\n",
      "Nicole White\n",
      "133-555-3889\n",
      "276 High St., Braavosâ€Ž IL 57764\n",
      "nicolewhite@bogusemail.com\n",
      "\n",
      "Maria Arnold\n",
      "705-555-6863\n",
      "491 Elm St., Metropolis PA 31836\n",
      "mariaarnold@bogusemail.com\n",
      "\n",
      "Jennifer Davis\n",
      "215-555-9449\n",
      "859 Cedar St., Old-town MT 31169\n",
      "jenniferdavis@bogusemail.com\n",
      "\n",
      "Mary Patterson\n",
      "988-555-6112\n",
      "956 Park St., Valyria CT 81541\n",
      "marypatterson@bogusemail.com\n",
      "\n",
      "Jane Stuart\n",
      "623-555-3006\n",
      "983 Oak St., Old-town RI 15445\n",
      "janestuart@bogusemail.com\n",
      "\n",
      "Robert Davis\n",
      "192-555-4977\n",
      "789 Maple St., Mordor IN 22215\n",
      "robertdavis@bogusemail.com\n",
      "\n",
      "James Taylor\n",
      "178-555-4899\n",
      "439 Hill St., Olympus NV 39308\n",
      "jamestaylor@bogusemail.com\n",
      "\n",
      "Eric Stuart\n",
      "952-555-3089\n",
      "777 High St., King's Landing AZ 16547\n",
      "johnstuart@bogusemail.com\n",
      "\n",
      "Charles Miller\n",
      "900-555-6426\n",
      "207 Washington St., Blackwater MA 24886\n",
      "charlesmiller@bogusemail.com\n"
     ]
    }
   ],
   "source": [
    "data = open('data.txt', 'r').read()\n",
    "print(data)"
   ]
  },
  {
   "cell_type": "markdown",
   "metadata": {},
   "source": [
    "## mask email"
   ]
  },
  {
   "cell_type": "code",
   "execution_count": 5,
   "metadata": {},
   "outputs": [],
   "source": [
    "def mask_email(s):\n",
    "    if '@' in s:\n",
    "        name, domain = s.split('@')\n",
    "        return f\"{name[0]}########{name[-1]}@{domain}\""
   ]
  },
  {
   "cell_type": "code",
   "execution_count": 6,
   "metadata": {},
   "outputs": [
    {
     "data": {
      "text/plain": [
       "'s########a@gmail.com'"
      ]
     },
     "execution_count": 6,
     "metadata": {},
     "output_type": "execute_result"
    }
   ],
   "source": [
    "mask_email('shanu.sharma@gmail.com')"
   ]
  },
  {
   "cell_type": "markdown",
   "metadata": {},
   "source": [
    "## verify email "
   ]
  },
  {
   "cell_type": "code",
   "execution_count": 7,
   "metadata": {},
   "outputs": [],
   "source": [
    "def is_email(s):\n",
    "    email_pattern = \"^\\w+([\\.-]?\\w+)*@\\w+([\\.-]?\\w+)*(\\.\\w{2,3})+$\"\n",
    "    res = re.search(email_pattern, s)\n",
    "    if res:\n",
    "        return True\n",
    "    else:\n",
    "        return False"
   ]
  },
  {
   "cell_type": "code",
   "execution_count": 8,
   "metadata": {},
   "outputs": [
    {
     "data": {
      "text/plain": [
       "True"
      ]
     },
     "execution_count": 8,
     "metadata": {},
     "output_type": "execute_result"
    }
   ],
   "source": [
    "is_email('shanu@gmail.com')"
   ]
  },
  {
   "cell_type": "code",
   "execution_count": 9,
   "metadata": {},
   "outputs": [
    {
     "data": {
      "text/plain": [
       "True"
      ]
     },
     "execution_count": 9,
     "metadata": {},
     "output_type": "execute_result"
    }
   ],
   "source": [
    "is_email('shanu.sharma.sharma@gmail.com')"
   ]
  },
  {
   "cell_type": "code",
   "execution_count": 10,
   "metadata": {},
   "outputs": [
    {
     "data": {
      "text/plain": [
       "True"
      ]
     },
     "execution_count": 10,
     "metadata": {},
     "output_type": "execute_result"
    }
   ],
   "source": [
    "is_email('shanu-sharma@gmail.com')"
   ]
  },
  {
   "cell_type": "code",
   "execution_count": 11,
   "metadata": {},
   "outputs": [
    {
     "data": {
      "text/plain": [
       "False"
      ]
     },
     "execution_count": 11,
     "metadata": {},
     "output_type": "execute_result"
    }
   ],
   "source": [
    "is_email('shanu.@gmail.com')"
   ]
  },
  {
   "cell_type": "markdown",
   "metadata": {},
   "source": [
    "## regex verbose "
   ]
  },
  {
   "cell_type": "code",
   "execution_count": 12,
   "metadata": {},
   "outputs": [],
   "source": [
    "regex_verbose = re.compile(r\"\"\"\n",
    "                           ^\\w+([\\.-]?\\w+)*         #username\n",
    "                           @                        #@\n",
    "                           \\w+([\\.-]?\\w+)*          #domain name\n",
    "                           (\\.\\w{2,3})+$            #com/edu\n",
    "                           \"\"\", re.VERBOSE | re.IGNORECASE)"
   ]
  },
  {
   "cell_type": "code",
   "execution_count": 13,
   "metadata": {},
   "outputs": [
    {
     "data": {
      "text/plain": [
       "<re.Match object; span=(0, 22), match='shanu.sharma@gmail.com'>"
      ]
     },
     "execution_count": 13,
     "metadata": {},
     "output_type": "execute_result"
    }
   ],
   "source": [
    "regex_verbose.match(\"shanu.sharma@gmail.com\")"
   ]
  },
  {
   "cell_type": "markdown",
   "metadata": {},
   "source": [
    "## match, search, findall, finditer"
   ]
  },
  {
   "cell_type": "code",
   "execution_count": 14,
   "metadata": {},
   "outputs": [],
   "source": [
    "pattern = \"\\d{3}-\\d{3}-\\d{4}\"\n",
    "re.match(pattern, data)"
   ]
  },
  {
   "cell_type": "code",
   "execution_count": 15,
   "metadata": {},
   "outputs": [
    {
     "data": {
      "text/plain": [
       "<re.Match object; span=(12, 24), match='615-555-7164'>"
      ]
     },
     "execution_count": 15,
     "metadata": {},
     "output_type": "execute_result"
    }
   ],
   "source": [
    "re.search(pattern, data)"
   ]
  },
  {
   "cell_type": "code",
   "execution_count": 16,
   "metadata": {},
   "outputs": [
    {
     "name": "stdout",
     "output_type": "stream",
     "text": [
      "['615-555-7164', '800-555-5669', '560-555-5153', '900-555-9340', '714-555-7405', '800-555-6771', '783-555-4799', '516-555-4615', '127-555-1867', '608-555-4938', '568-555-6051', '292-555-1875', '900-555-3205', '614-555-1166', '530-555-2676', '470-555-2750', '800-555-6089', '880-555-8319', '777-555-8378', '998-555-7385', '800-555-7100', '903-555-8277', '196-555-5674', '900-555-5118', '905-555-1630', '203-555-3475', '884-555-8444', '904-555-8559', '889-555-7393', '195-555-2405', '321-555-9053', '133-555-1711', '900-555-5428', '760-555-7147', '391-555-6621', '932-555-7724', '609-555-7908', '800-555-8810', '149-555-7657', '130-555-9709', '143-555-9295', '903-555-9878', '574-555-3194', '496-555-7533', '210-555-3757', '900-555-9598', '866-555-9844', '669-555-7159', '152-555-7417', '893-555-9832', '217-555-7123', '786-555-6544', '780-555-2574', '926-555-8735', '895-555-3539', '874-555-3949', '800-555-2420', '936-555-6340', '372-555-9809', '890-555-5618', '670-555-3005', '509-555-5997', '721-555-5632', '900-555-3567', '147-555-6830', '582-555-3426', '400-555-1706', '525-555-1793', '317-555-6700', '974-555-8301', '800-555-3216', '746-555-4094', '922-555-1773', '711-555-4427', '355-555-1872', '852-555-6521', '691-555-5773', '332-555-5441', '900-555-7755', '379-555-3685', '127-555-9682', '789-555-7032', '783-555-5135', '315-555-6507', '481-555-5835', '365-555-8287', '911-555-7535', '681-555-2460', '274-555-9800', '800-555-1372', '300-555-7821', '133-555-3889', '705-555-6863', '215-555-9449', '988-555-6112', '623-555-3006', '192-555-4977', '178-555-4899', '952-555-3089', '900-555-6426']\n"
     ]
    }
   ],
   "source": [
    "print(re.findall(pattern, data))"
   ]
  },
  {
   "cell_type": "code",
   "execution_count": 17,
   "metadata": {},
   "outputs": [
    {
     "name": "stdout",
     "output_type": "stream",
     "text": [
      "0 615-555-7164 12 24\n",
      "1 800-555-5669 102 114\n",
      "2 560-555-5153 191 203\n",
      "3 900-555-9340 281 293\n",
      "4 714-555-7405 378 390\n",
      "5 800-555-6771 467 479\n"
     ]
    }
   ],
   "source": [
    "pattern = \"\\d{3}-\\d{3}-\\d{4}\"\n",
    "numbers=re.finditer(pattern, data)\n",
    "for i,num in enumerate(numbers):\n",
    "    print(i,num.group(),num.start(),num.end())\n",
    "    if i==5:\n",
    "        break"
   ]
  },
  {
   "cell_type": "code",
   "execution_count": 18,
   "metadata": {},
   "outputs": [
    {
     "name": "stdout",
     "output_type": "stream",
     "text": [
      "0 615\n",
      "1 800\n",
      "2 560\n",
      "3 900\n",
      "4 714\n",
      "5 800\n"
     ]
    }
   ],
   "source": [
    "pattern = \"(\\d{3})-(\\d{3})-(\\d{4})\"\n",
    "numbers=re.finditer(pattern, data)\n",
    "for i,num in enumerate(numbers):\n",
    "    print(i,num.group(1))\n",
    "    if i==5:\n",
    "        break"
   ]
  },
  {
   "cell_type": "markdown",
   "metadata": {},
   "source": [
    "## case insensitive"
   ]
  },
  {
   "cell_type": "code",
   "execution_count": 19,
   "metadata": {},
   "outputs": [
    {
     "name": "stdout",
     "output_type": "stream",
     "text": [
      "<re.Match object; span=(0, 5), match='aaaaa'>\n"
     ]
    }
   ],
   "source": [
    "print(re.search('a+','aaaaaAAAA'))"
   ]
  },
  {
   "cell_type": "code",
   "execution_count": 20,
   "metadata": {},
   "outputs": [
    {
     "name": "stdout",
     "output_type": "stream",
     "text": [
      "<re.Match object; span=(0, 9), match='aaaaaAAAA'>\n"
     ]
    }
   ],
   "source": [
    "print(re.search('a+','aaaaaAAAA', re.I))"
   ]
  },
  {
   "cell_type": "code",
   "execution_count": 21,
   "metadata": {},
   "outputs": [
    {
     "name": "stdout",
     "output_type": "stream",
     "text": [
      "<re.Match object; span=(0, 9), match='aaaaaAAAA'>\n"
     ]
    }
   ],
   "source": [
    "print(re.search('a+','aaaaaAAAA', re.IGNORECASE))"
   ]
  },
  {
   "cell_type": "markdown",
   "metadata": {},
   "source": [
    "## case study"
   ]
  },
  {
   "cell_type": "code",
   "execution_count": 23,
   "metadata": {},
   "outputs": [
    {
     "name": "stdout",
     "output_type": "stream",
     "text": [
      "Requirement already satisfied: pyPDF4 in c:\\users\\shanu\\anaconda3\\lib\\site-packages (1.27.0)\n"
     ]
    }
   ],
   "source": [
    "!pip3 install pyPDF4"
   ]
  },
  {
   "cell_type": "code",
   "execution_count": 24,
   "metadata": {},
   "outputs": [
    {
     "name": "stdout",
     "output_type": "stream",
     "text": [
      "Invoice\n",
      "Payment is due within 30 days from date of invoice. Late payment is subject to fees of 5% per month.\n",
      "Thanks for choosing \n",
      "DEMO - Sliced Invoices\n",
      " | \n",
      "admin@slicedinvoices.com\n",
      "Page 1/1\n",
      "From:\n",
      "DEMO - Sliced Invoices\n",
      "Suite 5A-1204\n",
      "123 Somewhere Street\n",
      "Your City AZ 12345\n",
      "admin@slicedinvoices.com\n",
      "Invoice Number\n",
      "INV-3337\n",
      "Order Number\n",
      "12345\n",
      "Invoice Date\n",
      "January 25, 2016\n",
      "Due Date\n",
      "January 31, 2016\n",
      "Total Due\n",
      "$93.50\n",
      "To:\n",
      "Test Business\n",
      "123 Somewhere St\n",
      "Melbourne, VIC 3000\n",
      "test@test.com\n",
      "Hrs/Qty\n",
      "Service\n",
      "Rate/Price\n",
      "Adjust\n",
      "Sub Total\n",
      "1.00\n",
      "Web Design\n",
      "This is a sample description...\n",
      "$85.00\n",
      "0.00%\n",
      "$85.00\n",
      "Sub Total\n",
      "$85.00\n",
      "Tax\n",
      "$8.50\n",
      "Total\n",
      "$93.50\n",
      "ANZ Bank\n",
      "ACC # 1234 1234\n",
      "BSB # 4321 432\n",
      "Paid\n",
      "\n"
     ]
    }
   ],
   "source": [
    "import PyPDF4\n",
    "\n",
    "with open('invoice.pdf', mode='rb') as f:\n",
    "    reader = PyPDF4.PdfFileReader(f) \n",
    "    page = reader.getPage(0)\n",
    "    txt = page.extractText()\n",
    "    print(txt)"
   ]
  },
  {
   "cell_type": "code",
   "execution_count": 25,
   "metadata": {},
   "outputs": [
    {
     "name": "stdout",
     "output_type": "stream",
     "text": [
      "['$93.50', '$85.00', '$85.00', '$85.00', '$8.50', '$93.50']\n"
     ]
    }
   ],
   "source": [
    "m = re.findall(\"\\$[0-9]+\\.[0-9]+\", txt)\n",
    "print(m)"
   ]
  },
  {
   "cell_type": "code",
   "execution_count": 26,
   "metadata": {},
   "outputs": [
    {
     "name": "stdout",
     "output_type": "stream",
     "text": [
      "['Total Due\\n$93.50']\n"
     ]
    }
   ],
   "source": [
    "m = re.findall(\"Total Due\\n\\$[0-9]+\\.[0-9]+\", txt)\n",
    "print(m)"
   ]
  },
  {
   "cell_type": "code",
   "execution_count": 27,
   "metadata": {},
   "outputs": [
    {
     "name": "stdout",
     "output_type": "stream",
     "text": [
      "$93.50\n"
     ]
    }
   ],
   "source": [
    "m = re.findall(\"Total Due\\n\\$[0-9]+\\.[0-9]+\", txt)[0].split('\\n')[1]\n",
    "print(m)"
   ]
  },
  {
   "cell_type": "code",
   "execution_count": 28,
   "metadata": {},
   "outputs": [],
   "source": [
    "import pandas as pd\n",
    "\n",
    "df = pd.DataFrame({'Name': ['Amy', 'Ben', 'Christine', 'David'],\n",
    "                    'Email': ['amy.l@hotmail.com',\n",
    "                              'benmartni@gmail.fr',\n",
    "                              'c.mousse@example.com',\n",
    "                              'd_zhang@fp.fr'],\n",
    "                   'Birthday':['12/02/1992',\n",
    "                               '01/12/1980',\n",
    "                               '12/05/1839',\n",
    "                               '05/11/1990']},\n",
    "                              columns=['Name', 'Email','Birthday'])"
   ]
  },
  {
   "cell_type": "code",
   "execution_count": 29,
   "metadata": {},
   "outputs": [
    {
     "data": {
      "text/html": [
       "<div>\n",
       "<style scoped>\n",
       "    .dataframe tbody tr th:only-of-type {\n",
       "        vertical-align: middle;\n",
       "    }\n",
       "\n",
       "    .dataframe tbody tr th {\n",
       "        vertical-align: top;\n",
       "    }\n",
       "\n",
       "    .dataframe thead th {\n",
       "        text-align: right;\n",
       "    }\n",
       "</style>\n",
       "<table border=\"1\" class=\"dataframe\">\n",
       "  <thead>\n",
       "    <tr style=\"text-align: right;\">\n",
       "      <th></th>\n",
       "      <th>Name</th>\n",
       "      <th>Email</th>\n",
       "      <th>Birthday</th>\n",
       "    </tr>\n",
       "  </thead>\n",
       "  <tbody>\n",
       "    <tr>\n",
       "      <th>0</th>\n",
       "      <td>Amy</td>\n",
       "      <td>amy.l@hotmail.com</td>\n",
       "      <td>12/02/1992</td>\n",
       "    </tr>\n",
       "    <tr>\n",
       "      <th>1</th>\n",
       "      <td>Ben</td>\n",
       "      <td>benmartni@gmail.fr</td>\n",
       "      <td>01/12/1980</td>\n",
       "    </tr>\n",
       "    <tr>\n",
       "      <th>2</th>\n",
       "      <td>Christine</td>\n",
       "      <td>c.mousse@example.com</td>\n",
       "      <td>12/05/1839</td>\n",
       "    </tr>\n",
       "    <tr>\n",
       "      <th>3</th>\n",
       "      <td>David</td>\n",
       "      <td>d_zhang@fp.fr</td>\n",
       "      <td>05/11/1990</td>\n",
       "    </tr>\n",
       "  </tbody>\n",
       "</table>\n",
       "</div>"
      ],
      "text/plain": [
       "        Name                 Email    Birthday\n",
       "0        Amy     amy.l@hotmail.com  12/02/1992\n",
       "1        Ben    benmartni@gmail.fr  01/12/1980\n",
       "2  Christine  c.mousse@example.com  12/05/1839\n",
       "3      David         d_zhang@fp.fr  05/11/1990"
      ]
     },
     "execution_count": 29,
     "metadata": {},
     "output_type": "execute_result"
    }
   ],
   "source": [
    "df"
   ]
  },
  {
   "cell_type": "code",
   "execution_count": 30,
   "metadata": {},
   "outputs": [
    {
     "data": {
      "text/plain": [
       "0       amy.l[at]hotmail.com\n",
       "1      benmartni[at]gmail.fr\n",
       "2    c.mousse[at]example.com\n",
       "3           d_zhang[at]fp.fr\n",
       "Name: Email, dtype: object"
      ]
     },
     "execution_count": 30,
     "metadata": {},
     "output_type": "execute_result"
    }
   ],
   "source": [
    "df['Email'].apply(lambda x: re.sub('@', '[at]', x))"
   ]
  },
  {
   "cell_type": "code",
   "execution_count": null,
   "metadata": {},
   "outputs": [],
   "source": []
  }
 ],
 "metadata": {
  "kernelspec": {
   "display_name": "Python 3",
   "language": "python",
   "name": "python3"
  },
  "language_info": {
   "codemirror_mode": {
    "name": "ipython",
    "version": 3
   },
   "file_extension": ".py",
   "mimetype": "text/x-python",
   "name": "python",
   "nbconvert_exporter": "python",
   "pygments_lexer": "ipython3",
   "version": "3.8.3"
  }
 },
 "nbformat": 4,
 "nbformat_minor": 4
}
